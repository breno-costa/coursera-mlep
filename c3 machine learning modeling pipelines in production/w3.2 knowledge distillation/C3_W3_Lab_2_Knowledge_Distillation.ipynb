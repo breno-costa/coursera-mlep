{
  "nbformat": 4,
  "nbformat_minor": 0,
  "metadata": {
    "colab": {
      "name": "C3_W3_Lab_2_Knowledge_Distillation.ipynb",
      "provenance": [],
      "collapsed_sections": [],
      "toc_visible": true
    },
    "kernelspec": {
      "display_name": "Python 3",
      "language": "python",
      "name": "python3"
    },
    "language_info": {
      "codemirror_mode": {
        "name": "ipython",
        "version": 3
      },
      "file_extension": ".py",
      "mimetype": "text/x-python",
      "name": "python",
      "nbconvert_exporter": "python",
      "pygments_lexer": "ipython3",
      "version": "3.7.0"
    },
    "accelerator": "GPU",
    "widgets": {
      "application/vnd.jupyter.widget-state+json": {
        "b83538274d7d49e7a4e3975e87c6be53": {
          "model_module": "@jupyter-widgets/controls",
          "model_name": "HBoxModel",
          "model_module_version": "1.5.0",
          "state": {
            "_view_name": "HBoxView",
            "_dom_classes": [],
            "_model_name": "HBoxModel",
            "_view_module": "@jupyter-widgets/controls",
            "_model_module_version": "1.5.0",
            "_view_count": null,
            "_view_module_version": "1.5.0",
            "box_style": "",
            "layout": "IPY_MODEL_248962e19fda45c891e29389f414b937",
            "_model_module": "@jupyter-widgets/controls",
            "children": [
              "IPY_MODEL_9cc47f3755e440509b96b986870cf191",
              "IPY_MODEL_5e7456933cc54c8dadf096501294d37c",
              "IPY_MODEL_e146dd1612fe41cf82b7a60b21abed46"
            ]
          }
        },
        "248962e19fda45c891e29389f414b937": {
          "model_module": "@jupyter-widgets/base",
          "model_name": "LayoutModel",
          "model_module_version": "1.2.0",
          "state": {
            "_view_name": "LayoutView",
            "grid_template_rows": null,
            "right": null,
            "justify_content": null,
            "_view_module": "@jupyter-widgets/base",
            "overflow": null,
            "_model_module_version": "1.2.0",
            "_view_count": null,
            "flex_flow": null,
            "width": null,
            "min_width": null,
            "border": null,
            "align_items": null,
            "bottom": null,
            "_model_module": "@jupyter-widgets/base",
            "top": null,
            "grid_column": null,
            "overflow_y": null,
            "overflow_x": null,
            "grid_auto_flow": null,
            "grid_area": null,
            "grid_template_columns": null,
            "flex": null,
            "_model_name": "LayoutModel",
            "justify_items": null,
            "grid_row": null,
            "max_height": null,
            "align_content": null,
            "visibility": null,
            "align_self": null,
            "height": null,
            "min_height": null,
            "padding": null,
            "grid_auto_rows": null,
            "grid_gap": null,
            "max_width": null,
            "order": null,
            "_view_module_version": "1.2.0",
            "grid_template_areas": null,
            "object_position": null,
            "object_fit": null,
            "grid_auto_columns": null,
            "margin": null,
            "display": null,
            "left": null
          }
        },
        "9cc47f3755e440509b96b986870cf191": {
          "model_module": "@jupyter-widgets/controls",
          "model_name": "HTMLModel",
          "model_module_version": "1.5.0",
          "state": {
            "_view_name": "HTMLView",
            "style": "IPY_MODEL_87240b570129468ab45e046a488bbf2a",
            "_dom_classes": [],
            "description": "",
            "_model_name": "HTMLModel",
            "placeholder": "​",
            "_view_module": "@jupyter-widgets/controls",
            "_model_module_version": "1.5.0",
            "value": "Dl Completed...: 100%",
            "_view_count": null,
            "_view_module_version": "1.5.0",
            "description_tooltip": null,
            "_model_module": "@jupyter-widgets/controls",
            "layout": "IPY_MODEL_823f8edef8e44a27bb2d76f4d6444036"
          }
        },
        "5e7456933cc54c8dadf096501294d37c": {
          "model_module": "@jupyter-widgets/controls",
          "model_name": "FloatProgressModel",
          "model_module_version": "1.5.0",
          "state": {
            "_view_name": "ProgressView",
            "style": "IPY_MODEL_0242abb13ccf461c9784ba912ba5ad9f",
            "_dom_classes": [],
            "description": "",
            "_model_name": "FloatProgressModel",
            "bar_style": "success",
            "max": 1,
            "_view_module": "@jupyter-widgets/controls",
            "_model_module_version": "1.5.0",
            "value": 1,
            "_view_count": null,
            "_view_module_version": "1.5.0",
            "orientation": "horizontal",
            "min": 0,
            "description_tooltip": null,
            "_model_module": "@jupyter-widgets/controls",
            "layout": "IPY_MODEL_c588d38289594962a2212828c164f750"
          }
        },
        "e146dd1612fe41cf82b7a60b21abed46": {
          "model_module": "@jupyter-widgets/controls",
          "model_name": "HTMLModel",
          "model_module_version": "1.5.0",
          "state": {
            "_view_name": "HTMLView",
            "style": "IPY_MODEL_7554cc9e6e484db884f2fd1c60df1297",
            "_dom_classes": [],
            "description": "",
            "_model_name": "HTMLModel",
            "placeholder": "​",
            "_view_module": "@jupyter-widgets/controls",
            "_model_module_version": "1.5.0",
            "value": " 1/1 [00:15&lt;00:00, 15.73s/ url]",
            "_view_count": null,
            "_view_module_version": "1.5.0",
            "description_tooltip": null,
            "_model_module": "@jupyter-widgets/controls",
            "layout": "IPY_MODEL_90cfbb4c0d2346b48cfb5f702fbe6d9f"
          }
        },
        "87240b570129468ab45e046a488bbf2a": {
          "model_module": "@jupyter-widgets/controls",
          "model_name": "DescriptionStyleModel",
          "model_module_version": "1.5.0",
          "state": {
            "_view_name": "StyleView",
            "_model_name": "DescriptionStyleModel",
            "description_width": "",
            "_view_module": "@jupyter-widgets/base",
            "_model_module_version": "1.5.0",
            "_view_count": null,
            "_view_module_version": "1.2.0",
            "_model_module": "@jupyter-widgets/controls"
          }
        },
        "823f8edef8e44a27bb2d76f4d6444036": {
          "model_module": "@jupyter-widgets/base",
          "model_name": "LayoutModel",
          "model_module_version": "1.2.0",
          "state": {
            "_view_name": "LayoutView",
            "grid_template_rows": null,
            "right": null,
            "justify_content": null,
            "_view_module": "@jupyter-widgets/base",
            "overflow": null,
            "_model_module_version": "1.2.0",
            "_view_count": null,
            "flex_flow": null,
            "width": null,
            "min_width": null,
            "border": null,
            "align_items": null,
            "bottom": null,
            "_model_module": "@jupyter-widgets/base",
            "top": null,
            "grid_column": null,
            "overflow_y": null,
            "overflow_x": null,
            "grid_auto_flow": null,
            "grid_area": null,
            "grid_template_columns": null,
            "flex": null,
            "_model_name": "LayoutModel",
            "justify_items": null,
            "grid_row": null,
            "max_height": null,
            "align_content": null,
            "visibility": null,
            "align_self": null,
            "height": null,
            "min_height": null,
            "padding": null,
            "grid_auto_rows": null,
            "grid_gap": null,
            "max_width": null,
            "order": null,
            "_view_module_version": "1.2.0",
            "grid_template_areas": null,
            "object_position": null,
            "object_fit": null,
            "grid_auto_columns": null,
            "margin": null,
            "display": null,
            "left": null
          }
        },
        "0242abb13ccf461c9784ba912ba5ad9f": {
          "model_module": "@jupyter-widgets/controls",
          "model_name": "ProgressStyleModel",
          "model_module_version": "1.5.0",
          "state": {
            "_view_name": "StyleView",
            "_model_name": "ProgressStyleModel",
            "description_width": "",
            "_view_module": "@jupyter-widgets/base",
            "_model_module_version": "1.5.0",
            "_view_count": null,
            "_view_module_version": "1.2.0",
            "bar_color": null,
            "_model_module": "@jupyter-widgets/controls"
          }
        },
        "c588d38289594962a2212828c164f750": {
          "model_module": "@jupyter-widgets/base",
          "model_name": "LayoutModel",
          "model_module_version": "1.2.0",
          "state": {
            "_view_name": "LayoutView",
            "grid_template_rows": null,
            "right": null,
            "justify_content": null,
            "_view_module": "@jupyter-widgets/base",
            "overflow": null,
            "_model_module_version": "1.2.0",
            "_view_count": null,
            "flex_flow": null,
            "width": "20px",
            "min_width": null,
            "border": null,
            "align_items": null,
            "bottom": null,
            "_model_module": "@jupyter-widgets/base",
            "top": null,
            "grid_column": null,
            "overflow_y": null,
            "overflow_x": null,
            "grid_auto_flow": null,
            "grid_area": null,
            "grid_template_columns": null,
            "flex": null,
            "_model_name": "LayoutModel",
            "justify_items": null,
            "grid_row": null,
            "max_height": null,
            "align_content": null,
            "visibility": null,
            "align_self": null,
            "height": null,
            "min_height": null,
            "padding": null,
            "grid_auto_rows": null,
            "grid_gap": null,
            "max_width": null,
            "order": null,
            "_view_module_version": "1.2.0",
            "grid_template_areas": null,
            "object_position": null,
            "object_fit": null,
            "grid_auto_columns": null,
            "margin": null,
            "display": null,
            "left": null
          }
        },
        "7554cc9e6e484db884f2fd1c60df1297": {
          "model_module": "@jupyter-widgets/controls",
          "model_name": "DescriptionStyleModel",
          "model_module_version": "1.5.0",
          "state": {
            "_view_name": "StyleView",
            "_model_name": "DescriptionStyleModel",
            "description_width": "",
            "_view_module": "@jupyter-widgets/base",
            "_model_module_version": "1.5.0",
            "_view_count": null,
            "_view_module_version": "1.2.0",
            "_model_module": "@jupyter-widgets/controls"
          }
        },
        "90cfbb4c0d2346b48cfb5f702fbe6d9f": {
          "model_module": "@jupyter-widgets/base",
          "model_name": "LayoutModel",
          "model_module_version": "1.2.0",
          "state": {
            "_view_name": "LayoutView",
            "grid_template_rows": null,
            "right": null,
            "justify_content": null,
            "_view_module": "@jupyter-widgets/base",
            "overflow": null,
            "_model_module_version": "1.2.0",
            "_view_count": null,
            "flex_flow": null,
            "width": null,
            "min_width": null,
            "border": null,
            "align_items": null,
            "bottom": null,
            "_model_module": "@jupyter-widgets/base",
            "top": null,
            "grid_column": null,
            "overflow_y": null,
            "overflow_x": null,
            "grid_auto_flow": null,
            "grid_area": null,
            "grid_template_columns": null,
            "flex": null,
            "_model_name": "LayoutModel",
            "justify_items": null,
            "grid_row": null,
            "max_height": null,
            "align_content": null,
            "visibility": null,
            "align_self": null,
            "height": null,
            "min_height": null,
            "padding": null,
            "grid_auto_rows": null,
            "grid_gap": null,
            "max_width": null,
            "order": null,
            "_view_module_version": "1.2.0",
            "grid_template_areas": null,
            "object_position": null,
            "object_fit": null,
            "grid_auto_columns": null,
            "margin": null,
            "display": null,
            "left": null
          }
        },
        "3ff59edbe7204bdfb332542d822a22e2": {
          "model_module": "@jupyter-widgets/controls",
          "model_name": "HBoxModel",
          "model_module_version": "1.5.0",
          "state": {
            "_view_name": "HBoxView",
            "_dom_classes": [],
            "_model_name": "HBoxModel",
            "_view_module": "@jupyter-widgets/controls",
            "_model_module_version": "1.5.0",
            "_view_count": null,
            "_view_module_version": "1.5.0",
            "box_style": "",
            "layout": "IPY_MODEL_a7bac3d4951f40a49da7688e3d5c4e22",
            "_model_module": "@jupyter-widgets/controls",
            "children": [
              "IPY_MODEL_354080bc67dd4763a809e8288789efbe",
              "IPY_MODEL_a0c5ffa9a4cd4b858e6ff91ac15fdf7e",
              "IPY_MODEL_4f463fbe224a46f2afc9dfbdb326714c"
            ]
          }
        },
        "a7bac3d4951f40a49da7688e3d5c4e22": {
          "model_module": "@jupyter-widgets/base",
          "model_name": "LayoutModel",
          "model_module_version": "1.2.0",
          "state": {
            "_view_name": "LayoutView",
            "grid_template_rows": null,
            "right": null,
            "justify_content": null,
            "_view_module": "@jupyter-widgets/base",
            "overflow": null,
            "_model_module_version": "1.2.0",
            "_view_count": null,
            "flex_flow": null,
            "width": null,
            "min_width": null,
            "border": null,
            "align_items": null,
            "bottom": null,
            "_model_module": "@jupyter-widgets/base",
            "top": null,
            "grid_column": null,
            "overflow_y": null,
            "overflow_x": null,
            "grid_auto_flow": null,
            "grid_area": null,
            "grid_template_columns": null,
            "flex": null,
            "_model_name": "LayoutModel",
            "justify_items": null,
            "grid_row": null,
            "max_height": null,
            "align_content": null,
            "visibility": null,
            "align_self": null,
            "height": null,
            "min_height": null,
            "padding": null,
            "grid_auto_rows": null,
            "grid_gap": null,
            "max_width": null,
            "order": null,
            "_view_module_version": "1.2.0",
            "grid_template_areas": null,
            "object_position": null,
            "object_fit": null,
            "grid_auto_columns": null,
            "margin": null,
            "display": null,
            "left": null
          }
        },
        "354080bc67dd4763a809e8288789efbe": {
          "model_module": "@jupyter-widgets/controls",
          "model_name": "HTMLModel",
          "model_module_version": "1.5.0",
          "state": {
            "_view_name": "HTMLView",
            "style": "IPY_MODEL_a06502dcae0343859f2f75be7da3db07",
            "_dom_classes": [],
            "description": "",
            "_model_name": "HTMLModel",
            "placeholder": "​",
            "_view_module": "@jupyter-widgets/controls",
            "_model_module_version": "1.5.0",
            "value": "Dl Size...: 100%",
            "_view_count": null,
            "_view_module_version": "1.5.0",
            "description_tooltip": null,
            "_model_module": "@jupyter-widgets/controls",
            "layout": "IPY_MODEL_479b07b4edfb4b0fb6f16daddf40640b"
          }
        },
        "a0c5ffa9a4cd4b858e6ff91ac15fdf7e": {
          "model_module": "@jupyter-widgets/controls",
          "model_name": "FloatProgressModel",
          "model_module_version": "1.5.0",
          "state": {
            "_view_name": "ProgressView",
            "style": "IPY_MODEL_c0ad1a29b322446790be27ac1f24b192",
            "_dom_classes": [],
            "description": "",
            "_model_name": "FloatProgressModel",
            "bar_style": "success",
            "max": 1,
            "_view_module": "@jupyter-widgets/controls",
            "_model_module_version": "1.5.0",
            "value": 1,
            "_view_count": null,
            "_view_module_version": "1.5.0",
            "orientation": "horizontal",
            "min": 0,
            "description_tooltip": null,
            "_model_module": "@jupyter-widgets/controls",
            "layout": "IPY_MODEL_71a45fbed6ff47539ccb8bac2c7816ef"
          }
        },
        "4f463fbe224a46f2afc9dfbdb326714c": {
          "model_module": "@jupyter-widgets/controls",
          "model_name": "HTMLModel",
          "model_module_version": "1.5.0",
          "state": {
            "_view_name": "HTMLView",
            "style": "IPY_MODEL_6a1a1fb1dab8457182d6583fbb0e7191",
            "_dom_classes": [],
            "description": "",
            "_model_name": "HTMLModel",
            "placeholder": "​",
            "_view_module": "@jupyter-widgets/controls",
            "_model_module_version": "1.5.0",
            "value": " 786/786 [00:15&lt;00:00, 54.31 MiB/s]",
            "_view_count": null,
            "_view_module_version": "1.5.0",
            "description_tooltip": null,
            "_model_module": "@jupyter-widgets/controls",
            "layout": "IPY_MODEL_3a9edf12c88e402b9e3f70f5ae614246"
          }
        },
        "a06502dcae0343859f2f75be7da3db07": {
          "model_module": "@jupyter-widgets/controls",
          "model_name": "DescriptionStyleModel",
          "model_module_version": "1.5.0",
          "state": {
            "_view_name": "StyleView",
            "_model_name": "DescriptionStyleModel",
            "description_width": "",
            "_view_module": "@jupyter-widgets/base",
            "_model_module_version": "1.5.0",
            "_view_count": null,
            "_view_module_version": "1.2.0",
            "_model_module": "@jupyter-widgets/controls"
          }
        },
        "479b07b4edfb4b0fb6f16daddf40640b": {
          "model_module": "@jupyter-widgets/base",
          "model_name": "LayoutModel",
          "model_module_version": "1.2.0",
          "state": {
            "_view_name": "LayoutView",
            "grid_template_rows": null,
            "right": null,
            "justify_content": null,
            "_view_module": "@jupyter-widgets/base",
            "overflow": null,
            "_model_module_version": "1.2.0",
            "_view_count": null,
            "flex_flow": null,
            "width": null,
            "min_width": null,
            "border": null,
            "align_items": null,
            "bottom": null,
            "_model_module": "@jupyter-widgets/base",
            "top": null,
            "grid_column": null,
            "overflow_y": null,
            "overflow_x": null,
            "grid_auto_flow": null,
            "grid_area": null,
            "grid_template_columns": null,
            "flex": null,
            "_model_name": "LayoutModel",
            "justify_items": null,
            "grid_row": null,
            "max_height": null,
            "align_content": null,
            "visibility": null,
            "align_self": null,
            "height": null,
            "min_height": null,
            "padding": null,
            "grid_auto_rows": null,
            "grid_gap": null,
            "max_width": null,
            "order": null,
            "_view_module_version": "1.2.0",
            "grid_template_areas": null,
            "object_position": null,
            "object_fit": null,
            "grid_auto_columns": null,
            "margin": null,
            "display": null,
            "left": null
          }
        },
        "c0ad1a29b322446790be27ac1f24b192": {
          "model_module": "@jupyter-widgets/controls",
          "model_name": "ProgressStyleModel",
          "model_module_version": "1.5.0",
          "state": {
            "_view_name": "StyleView",
            "_model_name": "ProgressStyleModel",
            "description_width": "",
            "_view_module": "@jupyter-widgets/base",
            "_model_module_version": "1.5.0",
            "_view_count": null,
            "_view_module_version": "1.2.0",
            "bar_color": null,
            "_model_module": "@jupyter-widgets/controls"
          }
        },
        "71a45fbed6ff47539ccb8bac2c7816ef": {
          "model_module": "@jupyter-widgets/base",
          "model_name": "LayoutModel",
          "model_module_version": "1.2.0",
          "state": {
            "_view_name": "LayoutView",
            "grid_template_rows": null,
            "right": null,
            "justify_content": null,
            "_view_module": "@jupyter-widgets/base",
            "overflow": null,
            "_model_module_version": "1.2.0",
            "_view_count": null,
            "flex_flow": null,
            "width": "20px",
            "min_width": null,
            "border": null,
            "align_items": null,
            "bottom": null,
            "_model_module": "@jupyter-widgets/base",
            "top": null,
            "grid_column": null,
            "overflow_y": null,
            "overflow_x": null,
            "grid_auto_flow": null,
            "grid_area": null,
            "grid_template_columns": null,
            "flex": null,
            "_model_name": "LayoutModel",
            "justify_items": null,
            "grid_row": null,
            "max_height": null,
            "align_content": null,
            "visibility": null,
            "align_self": null,
            "height": null,
            "min_height": null,
            "padding": null,
            "grid_auto_rows": null,
            "grid_gap": null,
            "max_width": null,
            "order": null,
            "_view_module_version": "1.2.0",
            "grid_template_areas": null,
            "object_position": null,
            "object_fit": null,
            "grid_auto_columns": null,
            "margin": null,
            "display": null,
            "left": null
          }
        },
        "6a1a1fb1dab8457182d6583fbb0e7191": {
          "model_module": "@jupyter-widgets/controls",
          "model_name": "DescriptionStyleModel",
          "model_module_version": "1.5.0",
          "state": {
            "_view_name": "StyleView",
            "_model_name": "DescriptionStyleModel",
            "description_width": "",
            "_view_module": "@jupyter-widgets/base",
            "_model_module_version": "1.5.0",
            "_view_count": null,
            "_view_module_version": "1.2.0",
            "_model_module": "@jupyter-widgets/controls"
          }
        },
        "3a9edf12c88e402b9e3f70f5ae614246": {
          "model_module": "@jupyter-widgets/base",
          "model_name": "LayoutModel",
          "model_module_version": "1.2.0",
          "state": {
            "_view_name": "LayoutView",
            "grid_template_rows": null,
            "right": null,
            "justify_content": null,
            "_view_module": "@jupyter-widgets/base",
            "overflow": null,
            "_model_module_version": "1.2.0",
            "_view_count": null,
            "flex_flow": null,
            "width": null,
            "min_width": null,
            "border": null,
            "align_items": null,
            "bottom": null,
            "_model_module": "@jupyter-widgets/base",
            "top": null,
            "grid_column": null,
            "overflow_y": null,
            "overflow_x": null,
            "grid_auto_flow": null,
            "grid_area": null,
            "grid_template_columns": null,
            "flex": null,
            "_model_name": "LayoutModel",
            "justify_items": null,
            "grid_row": null,
            "max_height": null,
            "align_content": null,
            "visibility": null,
            "align_self": null,
            "height": null,
            "min_height": null,
            "padding": null,
            "grid_auto_rows": null,
            "grid_gap": null,
            "max_width": null,
            "order": null,
            "_view_module_version": "1.2.0",
            "grid_template_areas": null,
            "object_position": null,
            "object_fit": null,
            "grid_auto_columns": null,
            "margin": null,
            "display": null,
            "left": null
          }
        },
        "98746102edf04cf79ecd90de6684f122": {
          "model_module": "@jupyter-widgets/controls",
          "model_name": "HBoxModel",
          "model_module_version": "1.5.0",
          "state": {
            "_view_name": "HBoxView",
            "_dom_classes": [],
            "_model_name": "HBoxModel",
            "_view_module": "@jupyter-widgets/controls",
            "_model_module_version": "1.5.0",
            "_view_count": null,
            "_view_module_version": "1.5.0",
            "box_style": "",
            "layout": "IPY_MODEL_97b2ae9058264809b2eacd74ec15e131",
            "_model_module": "@jupyter-widgets/controls",
            "children": [
              "IPY_MODEL_fb79e1d0e1db4ed8b5dc584a51aadcda",
              "IPY_MODEL_e09ac4ecab7e45b19bca7b21ca8b94bf",
              "IPY_MODEL_aeb8c2e2933945b69f40a56bccf01323"
            ]
          }
        },
        "97b2ae9058264809b2eacd74ec15e131": {
          "model_module": "@jupyter-widgets/base",
          "model_name": "LayoutModel",
          "model_module_version": "1.2.0",
          "state": {
            "_view_name": "LayoutView",
            "grid_template_rows": null,
            "right": null,
            "justify_content": null,
            "_view_module": "@jupyter-widgets/base",
            "overflow": null,
            "_model_module_version": "1.2.0",
            "_view_count": null,
            "flex_flow": null,
            "width": null,
            "min_width": null,
            "border": null,
            "align_items": null,
            "bottom": null,
            "_model_module": "@jupyter-widgets/base",
            "top": null,
            "grid_column": null,
            "overflow_y": null,
            "overflow_x": null,
            "grid_auto_flow": null,
            "grid_area": null,
            "grid_template_columns": null,
            "flex": null,
            "_model_name": "LayoutModel",
            "justify_items": null,
            "grid_row": null,
            "max_height": null,
            "align_content": null,
            "visibility": null,
            "align_self": null,
            "height": null,
            "min_height": null,
            "padding": null,
            "grid_auto_rows": null,
            "grid_gap": null,
            "max_width": null,
            "order": null,
            "_view_module_version": "1.2.0",
            "grid_template_areas": null,
            "object_position": null,
            "object_fit": null,
            "grid_auto_columns": null,
            "margin": null,
            "display": null,
            "left": null
          }
        },
        "fb79e1d0e1db4ed8b5dc584a51aadcda": {
          "model_module": "@jupyter-widgets/controls",
          "model_name": "HTMLModel",
          "model_module_version": "1.5.0",
          "state": {
            "_view_name": "HTMLView",
            "style": "IPY_MODEL_214d13f2d72f421d98d56a6fd490e306",
            "_dom_classes": [],
            "description": "",
            "_model_name": "HTMLModel",
            "placeholder": "​",
            "_view_module": "@jupyter-widgets/controls",
            "_model_module_version": "1.5.0",
            "value": "",
            "_view_count": null,
            "_view_module_version": "1.5.0",
            "description_tooltip": null,
            "_model_module": "@jupyter-widgets/controls",
            "layout": "IPY_MODEL_49cd434bc94e46e198359f04bea95305"
          }
        },
        "e09ac4ecab7e45b19bca7b21ca8b94bf": {
          "model_module": "@jupyter-widgets/controls",
          "model_name": "FloatProgressModel",
          "model_module_version": "1.5.0",
          "state": {
            "_view_name": "ProgressView",
            "style": "IPY_MODEL_5c03c6899dcf4dc7b0cf6b25e6b61f10",
            "_dom_classes": [],
            "description": "",
            "_model_name": "FloatProgressModel",
            "bar_style": "info",
            "max": 1,
            "_view_module": "@jupyter-widgets/controls",
            "_model_module_version": "1.5.0",
            "value": 1,
            "_view_count": null,
            "_view_module_version": "1.5.0",
            "orientation": "horizontal",
            "min": 0,
            "description_tooltip": null,
            "_model_module": "@jupyter-widgets/controls",
            "layout": "IPY_MODEL_78767ade3926411495ff635eeba75058"
          }
        },
        "aeb8c2e2933945b69f40a56bccf01323": {
          "model_module": "@jupyter-widgets/controls",
          "model_name": "HTMLModel",
          "model_module_version": "1.5.0",
          "state": {
            "_view_name": "HTMLView",
            "style": "IPY_MODEL_3d2351d05cdb46fd9ab88c2aa3f61a20",
            "_dom_classes": [],
            "description": "",
            "_model_name": "HTMLModel",
            "placeholder": "​",
            "_view_module": "@jupyter-widgets/controls",
            "_model_module_version": "1.5.0",
            "value": " 23146/0 [00:16&lt;00:00, 1438.52 examples/s]",
            "_view_count": null,
            "_view_module_version": "1.5.0",
            "description_tooltip": null,
            "_model_module": "@jupyter-widgets/controls",
            "layout": "IPY_MODEL_dfea19b9c8804a0d839e579cb416abc2"
          }
        },
        "214d13f2d72f421d98d56a6fd490e306": {
          "model_module": "@jupyter-widgets/controls",
          "model_name": "DescriptionStyleModel",
          "model_module_version": "1.5.0",
          "state": {
            "_view_name": "StyleView",
            "_model_name": "DescriptionStyleModel",
            "description_width": "",
            "_view_module": "@jupyter-widgets/base",
            "_model_module_version": "1.5.0",
            "_view_count": null,
            "_view_module_version": "1.2.0",
            "_model_module": "@jupyter-widgets/controls"
          }
        },
        "49cd434bc94e46e198359f04bea95305": {
          "model_module": "@jupyter-widgets/base",
          "model_name": "LayoutModel",
          "model_module_version": "1.2.0",
          "state": {
            "_view_name": "LayoutView",
            "grid_template_rows": null,
            "right": null,
            "justify_content": null,
            "_view_module": "@jupyter-widgets/base",
            "overflow": null,
            "_model_module_version": "1.2.0",
            "_view_count": null,
            "flex_flow": null,
            "width": null,
            "min_width": null,
            "border": null,
            "align_items": null,
            "bottom": null,
            "_model_module": "@jupyter-widgets/base",
            "top": null,
            "grid_column": null,
            "overflow_y": null,
            "overflow_x": null,
            "grid_auto_flow": null,
            "grid_area": null,
            "grid_template_columns": null,
            "flex": null,
            "_model_name": "LayoutModel",
            "justify_items": null,
            "grid_row": null,
            "max_height": null,
            "align_content": null,
            "visibility": null,
            "align_self": null,
            "height": null,
            "min_height": null,
            "padding": null,
            "grid_auto_rows": null,
            "grid_gap": null,
            "max_width": null,
            "order": null,
            "_view_module_version": "1.2.0",
            "grid_template_areas": null,
            "object_position": null,
            "object_fit": null,
            "grid_auto_columns": null,
            "margin": null,
            "display": null,
            "left": null
          }
        },
        "5c03c6899dcf4dc7b0cf6b25e6b61f10": {
          "model_module": "@jupyter-widgets/controls",
          "model_name": "ProgressStyleModel",
          "model_module_version": "1.5.0",
          "state": {
            "_view_name": "StyleView",
            "_model_name": "ProgressStyleModel",
            "description_width": "",
            "_view_module": "@jupyter-widgets/base",
            "_model_module_version": "1.5.0",
            "_view_count": null,
            "_view_module_version": "1.2.0",
            "bar_color": null,
            "_model_module": "@jupyter-widgets/controls"
          }
        },
        "78767ade3926411495ff635eeba75058": {
          "model_module": "@jupyter-widgets/base",
          "model_name": "LayoutModel",
          "model_module_version": "1.2.0",
          "state": {
            "_view_name": "LayoutView",
            "grid_template_rows": null,
            "right": null,
            "justify_content": null,
            "_view_module": "@jupyter-widgets/base",
            "overflow": null,
            "_model_module_version": "1.2.0",
            "_view_count": null,
            "flex_flow": null,
            "width": "20px",
            "min_width": null,
            "border": null,
            "align_items": null,
            "bottom": null,
            "_model_module": "@jupyter-widgets/base",
            "top": null,
            "grid_column": null,
            "overflow_y": null,
            "overflow_x": null,
            "grid_auto_flow": null,
            "grid_area": null,
            "grid_template_columns": null,
            "flex": null,
            "_model_name": "LayoutModel",
            "justify_items": null,
            "grid_row": null,
            "max_height": null,
            "align_content": null,
            "visibility": null,
            "align_self": null,
            "height": null,
            "min_height": null,
            "padding": null,
            "grid_auto_rows": null,
            "grid_gap": null,
            "max_width": null,
            "order": null,
            "_view_module_version": "1.2.0",
            "grid_template_areas": null,
            "object_position": null,
            "object_fit": null,
            "grid_auto_columns": null,
            "margin": null,
            "display": null,
            "left": null
          }
        },
        "3d2351d05cdb46fd9ab88c2aa3f61a20": {
          "model_module": "@jupyter-widgets/controls",
          "model_name": "DescriptionStyleModel",
          "model_module_version": "1.5.0",
          "state": {
            "_view_name": "StyleView",
            "_model_name": "DescriptionStyleModel",
            "description_width": "",
            "_view_module": "@jupyter-widgets/base",
            "_model_module_version": "1.5.0",
            "_view_count": null,
            "_view_module_version": "1.2.0",
            "_model_module": "@jupyter-widgets/controls"
          }
        },
        "dfea19b9c8804a0d839e579cb416abc2": {
          "model_module": "@jupyter-widgets/base",
          "model_name": "LayoutModel",
          "model_module_version": "1.2.0",
          "state": {
            "_view_name": "LayoutView",
            "grid_template_rows": null,
            "right": null,
            "justify_content": null,
            "_view_module": "@jupyter-widgets/base",
            "overflow": null,
            "_model_module_version": "1.2.0",
            "_view_count": null,
            "flex_flow": null,
            "width": null,
            "min_width": null,
            "border": null,
            "align_items": null,
            "bottom": null,
            "_model_module": "@jupyter-widgets/base",
            "top": null,
            "grid_column": null,
            "overflow_y": null,
            "overflow_x": null,
            "grid_auto_flow": null,
            "grid_area": null,
            "grid_template_columns": null,
            "flex": null,
            "_model_name": "LayoutModel",
            "justify_items": null,
            "grid_row": null,
            "max_height": null,
            "align_content": null,
            "visibility": null,
            "align_self": null,
            "height": null,
            "min_height": null,
            "padding": null,
            "grid_auto_rows": null,
            "grid_gap": null,
            "max_width": null,
            "order": null,
            "_view_module_version": "1.2.0",
            "grid_template_areas": null,
            "object_position": null,
            "object_fit": null,
            "grid_auto_columns": null,
            "margin": null,
            "display": null,
            "left": null
          }
        },
        "d616f0887b0f4830b24629a4f8a76744": {
          "model_module": "@jupyter-widgets/controls",
          "model_name": "HBoxModel",
          "model_module_version": "1.5.0",
          "state": {
            "_view_name": "HBoxView",
            "_dom_classes": [],
            "_model_name": "HBoxModel",
            "_view_module": "@jupyter-widgets/controls",
            "_model_module_version": "1.5.0",
            "_view_count": null,
            "_view_module_version": "1.5.0",
            "box_style": "",
            "layout": "IPY_MODEL_715ed512a1f1432db38ad346bd7d06b6",
            "_model_module": "@jupyter-widgets/controls",
            "children": [
              "IPY_MODEL_4e6eee7ddd9644e49ca4250a67fe4ffc",
              "IPY_MODEL_7151a96bddb74d53ac5c0cbf23a814d6",
              "IPY_MODEL_44e55f41533e492cb30c74b72068cadb"
            ]
          }
        },
        "715ed512a1f1432db38ad346bd7d06b6": {
          "model_module": "@jupyter-widgets/base",
          "model_name": "LayoutModel",
          "model_module_version": "1.2.0",
          "state": {
            "_view_name": "LayoutView",
            "grid_template_rows": null,
            "right": null,
            "justify_content": null,
            "_view_module": "@jupyter-widgets/base",
            "overflow": null,
            "_model_module_version": "1.2.0",
            "_view_count": null,
            "flex_flow": null,
            "width": null,
            "min_width": null,
            "border": null,
            "align_items": null,
            "bottom": null,
            "_model_module": "@jupyter-widgets/base",
            "top": null,
            "grid_column": null,
            "overflow_y": null,
            "overflow_x": null,
            "grid_auto_flow": null,
            "grid_area": null,
            "grid_template_columns": null,
            "flex": null,
            "_model_name": "LayoutModel",
            "justify_items": null,
            "grid_row": null,
            "max_height": null,
            "align_content": null,
            "visibility": null,
            "align_self": null,
            "height": null,
            "min_height": null,
            "padding": null,
            "grid_auto_rows": null,
            "grid_gap": null,
            "max_width": null,
            "order": null,
            "_view_module_version": "1.2.0",
            "grid_template_areas": null,
            "object_position": null,
            "object_fit": null,
            "grid_auto_columns": null,
            "margin": null,
            "display": null,
            "left": null
          }
        },
        "4e6eee7ddd9644e49ca4250a67fe4ffc": {
          "model_module": "@jupyter-widgets/controls",
          "model_name": "HTMLModel",
          "model_module_version": "1.5.0",
          "state": {
            "_view_name": "HTMLView",
            "style": "IPY_MODEL_54d4647430fe48e3956d4a35542e1606",
            "_dom_classes": [],
            "description": "",
            "_model_name": "HTMLModel",
            "placeholder": "​",
            "_view_module": "@jupyter-widgets/controls",
            "_model_module_version": "1.5.0",
            "value": "100%",
            "_view_count": null,
            "_view_module_version": "1.5.0",
            "description_tooltip": null,
            "_model_module": "@jupyter-widgets/controls",
            "layout": "IPY_MODEL_f700c273a47048cc84bf8b286c09acf6"
          }
        },
        "7151a96bddb74d53ac5c0cbf23a814d6": {
          "model_module": "@jupyter-widgets/controls",
          "model_name": "FloatProgressModel",
          "model_module_version": "1.5.0",
          "state": {
            "_view_name": "ProgressView",
            "style": "IPY_MODEL_6d433b6f690f49b5b2a6ffd73aaa7e57",
            "_dom_classes": [],
            "description": "",
            "_model_name": "FloatProgressModel",
            "bar_style": "danger",
            "max": 23262,
            "_view_module": "@jupyter-widgets/controls",
            "_model_module_version": "1.5.0",
            "value": 23261,
            "_view_count": null,
            "_view_module_version": "1.5.0",
            "orientation": "horizontal",
            "min": 0,
            "description_tooltip": null,
            "_model_module": "@jupyter-widgets/controls",
            "layout": "IPY_MODEL_1186967d054c414bb86dcb89a1c34d5b"
          }
        },
        "44e55f41533e492cb30c74b72068cadb": {
          "model_module": "@jupyter-widgets/controls",
          "model_name": "HTMLModel",
          "model_module_version": "1.5.0",
          "state": {
            "_view_name": "HTMLView",
            "style": "IPY_MODEL_ce192ff19b03452696141ab71436fb00",
            "_dom_classes": [],
            "description": "",
            "_model_name": "HTMLModel",
            "placeholder": "​",
            "_view_module": "@jupyter-widgets/controls",
            "_model_module_version": "1.5.0",
            "value": " 23261/23262 [00:02&lt;00:00, 8052.60 examples/s]",
            "_view_count": null,
            "_view_module_version": "1.5.0",
            "description_tooltip": null,
            "_model_module": "@jupyter-widgets/controls",
            "layout": "IPY_MODEL_584b6e41348b4175b19758771ca75c28"
          }
        },
        "54d4647430fe48e3956d4a35542e1606": {
          "model_module": "@jupyter-widgets/controls",
          "model_name": "DescriptionStyleModel",
          "model_module_version": "1.5.0",
          "state": {
            "_view_name": "StyleView",
            "_model_name": "DescriptionStyleModel",
            "description_width": "",
            "_view_module": "@jupyter-widgets/base",
            "_model_module_version": "1.5.0",
            "_view_count": null,
            "_view_module_version": "1.2.0",
            "_model_module": "@jupyter-widgets/controls"
          }
        },
        "f700c273a47048cc84bf8b286c09acf6": {
          "model_module": "@jupyter-widgets/base",
          "model_name": "LayoutModel",
          "model_module_version": "1.2.0",
          "state": {
            "_view_name": "LayoutView",
            "grid_template_rows": null,
            "right": null,
            "justify_content": null,
            "_view_module": "@jupyter-widgets/base",
            "overflow": null,
            "_model_module_version": "1.2.0",
            "_view_count": null,
            "flex_flow": null,
            "width": null,
            "min_width": null,
            "border": null,
            "align_items": null,
            "bottom": null,
            "_model_module": "@jupyter-widgets/base",
            "top": null,
            "grid_column": null,
            "overflow_y": null,
            "overflow_x": null,
            "grid_auto_flow": null,
            "grid_area": null,
            "grid_template_columns": null,
            "flex": null,
            "_model_name": "LayoutModel",
            "justify_items": null,
            "grid_row": null,
            "max_height": null,
            "align_content": null,
            "visibility": null,
            "align_self": null,
            "height": null,
            "min_height": null,
            "padding": null,
            "grid_auto_rows": null,
            "grid_gap": null,
            "max_width": null,
            "order": null,
            "_view_module_version": "1.2.0",
            "grid_template_areas": null,
            "object_position": null,
            "object_fit": null,
            "grid_auto_columns": null,
            "margin": null,
            "display": null,
            "left": null
          }
        },
        "6d433b6f690f49b5b2a6ffd73aaa7e57": {
          "model_module": "@jupyter-widgets/controls",
          "model_name": "ProgressStyleModel",
          "model_module_version": "1.5.0",
          "state": {
            "_view_name": "StyleView",
            "_model_name": "ProgressStyleModel",
            "description_width": "",
            "_view_module": "@jupyter-widgets/base",
            "_model_module_version": "1.5.0",
            "_view_count": null,
            "_view_module_version": "1.2.0",
            "bar_color": null,
            "_model_module": "@jupyter-widgets/controls"
          }
        },
        "1186967d054c414bb86dcb89a1c34d5b": {
          "model_module": "@jupyter-widgets/base",
          "model_name": "LayoutModel",
          "model_module_version": "1.2.0",
          "state": {
            "_view_name": "LayoutView",
            "grid_template_rows": null,
            "right": null,
            "justify_content": null,
            "_view_module": "@jupyter-widgets/base",
            "overflow": null,
            "_model_module_version": "1.2.0",
            "_view_count": null,
            "flex_flow": null,
            "width": null,
            "min_width": null,
            "border": null,
            "align_items": null,
            "bottom": null,
            "_model_module": "@jupyter-widgets/base",
            "top": null,
            "grid_column": null,
            "overflow_y": null,
            "overflow_x": null,
            "grid_auto_flow": null,
            "grid_area": null,
            "grid_template_columns": null,
            "flex": null,
            "_model_name": "LayoutModel",
            "justify_items": null,
            "grid_row": null,
            "max_height": null,
            "align_content": null,
            "visibility": null,
            "align_self": null,
            "height": null,
            "min_height": null,
            "padding": null,
            "grid_auto_rows": null,
            "grid_gap": null,
            "max_width": null,
            "order": null,
            "_view_module_version": "1.2.0",
            "grid_template_areas": null,
            "object_position": null,
            "object_fit": null,
            "grid_auto_columns": null,
            "margin": null,
            "display": null,
            "left": null
          }
        },
        "ce192ff19b03452696141ab71436fb00": {
          "model_module": "@jupyter-widgets/controls",
          "model_name": "DescriptionStyleModel",
          "model_module_version": "1.5.0",
          "state": {
            "_view_name": "StyleView",
            "_model_name": "DescriptionStyleModel",
            "description_width": "",
            "_view_module": "@jupyter-widgets/base",
            "_model_module_version": "1.5.0",
            "_view_count": null,
            "_view_module_version": "1.2.0",
            "_model_module": "@jupyter-widgets/controls"
          }
        },
        "584b6e41348b4175b19758771ca75c28": {
          "model_module": "@jupyter-widgets/base",
          "model_name": "LayoutModel",
          "model_module_version": "1.2.0",
          "state": {
            "_view_name": "LayoutView",
            "grid_template_rows": null,
            "right": null,
            "justify_content": null,
            "_view_module": "@jupyter-widgets/base",
            "overflow": null,
            "_model_module_version": "1.2.0",
            "_view_count": null,
            "flex_flow": null,
            "width": null,
            "min_width": null,
            "border": null,
            "align_items": null,
            "bottom": null,
            "_model_module": "@jupyter-widgets/base",
            "top": null,
            "grid_column": null,
            "overflow_y": null,
            "overflow_x": null,
            "grid_auto_flow": null,
            "grid_area": null,
            "grid_template_columns": null,
            "flex": null,
            "_model_name": "LayoutModel",
            "justify_items": null,
            "grid_row": null,
            "max_height": null,
            "align_content": null,
            "visibility": null,
            "align_self": null,
            "height": null,
            "min_height": null,
            "padding": null,
            "grid_auto_rows": null,
            "grid_gap": null,
            "max_width": null,
            "order": null,
            "_view_module_version": "1.2.0",
            "grid_template_areas": null,
            "object_position": null,
            "object_fit": null,
            "grid_auto_columns": null,
            "margin": null,
            "display": null,
            "left": null
          }
        }
      }
    }
  },
  "cells": [
    {
      "cell_type": "markdown",
      "metadata": {
        "id": "l2hyuOxRwabt"
      },
      "source": [
        "# Ungraded lab: Knowledge Distillation\n",
        "------------------------\n",
        " \n",
        "Welcome, during this ungraded lab you are going to perform a model compression technique known as **knowledge distillation** in which a `student` model \"learns\" from a more complex model known as the `teacher`. In particular you will:\n",
        "\n",
        "\n",
        "1. Define a `Distiller` class with the custom logic for the distillation process.\n",
        "2. Train the `teacher` model which is a CNN that implements regularization via dropout.\n",
        "3. Train a `student` model (a smaller version of the teacher without regularization) by using knowledge distillation.\n",
        "4. Train another `student` model from scratch without distillation called `student_scratch`.\n",
        "5. Compare the three students.\n",
        "\n",
        "\n",
        "This notebook is based on [this](https://keras.io/examples/vision/knowledge_distillation/) official Keras tutorial. \n",
        "\n",
        "If you want a more theoretical approach to this topic be sure to check this paper [Hinton et al. (2015)](https://arxiv.org/abs/1503.02531). \n",
        "\n",
        "Let's get started!\n"
      ]
    },
    {
      "cell_type": "markdown",
      "metadata": {
        "id": "qAhJX9iLwabu"
      },
      "source": [
        "## Imports"
      ]
    },
    {
      "cell_type": "code",
      "metadata": {
        "id": "SosaPG6jwabv"
      },
      "source": [
        "# For setting random seeds\n",
        "import os\n",
        "os.environ['PYTHONHASHSEED']=str(42)\n",
        "\n",
        "# Libraries\n",
        "import random\n",
        "import numpy as np\n",
        "import pandas as pd\n",
        "import seaborn as sns\n",
        "import tensorflow as tf\n",
        "from tensorflow import keras\n",
        "import matplotlib.pyplot as plt\n",
        "import tensorflow_datasets as tfds\n",
        "\n",
        "# More random seed setup\n",
        "tf.random.set_seed(42)\n",
        "np.random.seed(42)\n",
        "random.seed(42)"
      ],
      "execution_count": 1,
      "outputs": []
    },
    {
      "cell_type": "markdown",
      "metadata": {
        "id": "8MsH7h6tqC2i"
      },
      "source": [
        "## Prepare the data\n",
        "\n",
        "For this lab you will use the [cats vs dogs](https://www.tensorflow.org/datasets/catalog/cats_vs_dogs) which is composed of many images of cats and dogs alongise their respective labels. \n",
        "\n",
        "Begin by downloading the data:"
      ]
    },
    {
      "cell_type": "code",
      "metadata": {
        "id": "WGWF89iLwab0",
        "colab": {
          "base_uri": "https://localhost:8080/",
          "height": 232,
          "referenced_widgets": [
            "b83538274d7d49e7a4e3975e87c6be53",
            "248962e19fda45c891e29389f414b937",
            "9cc47f3755e440509b96b986870cf191",
            "5e7456933cc54c8dadf096501294d37c",
            "e146dd1612fe41cf82b7a60b21abed46",
            "87240b570129468ab45e046a488bbf2a",
            "823f8edef8e44a27bb2d76f4d6444036",
            "0242abb13ccf461c9784ba912ba5ad9f",
            "c588d38289594962a2212828c164f750",
            "7554cc9e6e484db884f2fd1c60df1297",
            "90cfbb4c0d2346b48cfb5f702fbe6d9f",
            "3ff59edbe7204bdfb332542d822a22e2",
            "a7bac3d4951f40a49da7688e3d5c4e22",
            "354080bc67dd4763a809e8288789efbe",
            "a0c5ffa9a4cd4b858e6ff91ac15fdf7e",
            "4f463fbe224a46f2afc9dfbdb326714c",
            "a06502dcae0343859f2f75be7da3db07",
            "479b07b4edfb4b0fb6f16daddf40640b",
            "c0ad1a29b322446790be27ac1f24b192",
            "71a45fbed6ff47539ccb8bac2c7816ef",
            "6a1a1fb1dab8457182d6583fbb0e7191",
            "3a9edf12c88e402b9e3f70f5ae614246",
            "98746102edf04cf79ecd90de6684f122",
            "97b2ae9058264809b2eacd74ec15e131",
            "fb79e1d0e1db4ed8b5dc584a51aadcda",
            "e09ac4ecab7e45b19bca7b21ca8b94bf",
            "aeb8c2e2933945b69f40a56bccf01323",
            "214d13f2d72f421d98d56a6fd490e306",
            "49cd434bc94e46e198359f04bea95305",
            "5c03c6899dcf4dc7b0cf6b25e6b61f10",
            "78767ade3926411495ff635eeba75058",
            "3d2351d05cdb46fd9ab88c2aa3f61a20",
            "dfea19b9c8804a0d839e579cb416abc2",
            "d616f0887b0f4830b24629a4f8a76744",
            "715ed512a1f1432db38ad346bd7d06b6",
            "4e6eee7ddd9644e49ca4250a67fe4ffc",
            "7151a96bddb74d53ac5c0cbf23a814d6",
            "44e55f41533e492cb30c74b72068cadb",
            "54d4647430fe48e3956d4a35542e1606",
            "f700c273a47048cc84bf8b286c09acf6",
            "6d433b6f690f49b5b2a6ffd73aaa7e57",
            "1186967d054c414bb86dcb89a1c34d5b",
            "ce192ff19b03452696141ab71436fb00",
            "584b6e41348b4175b19758771ca75c28"
          ]
        },
        "outputId": "611a11c4-15ce-47f0-aad7-5a789667cf26"
      },
      "source": [
        "# Define train/test splits\n",
        "splits = ['train[:80%]', 'train[80%:90%]', 'train[90%:]']\n",
        "\n",
        "# Download the dataset\n",
        "(train_examples, validation_examples, test_examples), info = tfds.load('cats_vs_dogs', with_info=True, as_supervised=True, split=splits)\n",
        "\n",
        "# Print useful information\n",
        "num_examples = info.splits['train'].num_examples\n",
        "num_classes = info.features['label'].num_classes\n",
        "\n",
        "print(f\"There are {num_examples} images for {num_classes} classes.\")"
      ],
      "execution_count": 2,
      "outputs": [
        {
          "output_type": "stream",
          "text": [
            "\u001b[1mDownloading and preparing dataset cats_vs_dogs/4.0.0 (download: 786.68 MiB, generated: Unknown size, total: 786.68 MiB) to /root/tensorflow_datasets/cats_vs_dogs/4.0.0...\u001b[0m\n"
          ],
          "name": "stdout"
        },
        {
          "output_type": "display_data",
          "data": {
            "application/vnd.jupyter.widget-view+json": {
              "model_id": "b83538274d7d49e7a4e3975e87c6be53",
              "version_minor": 0,
              "version_major": 2
            },
            "text/plain": [
              "Dl Completed...: 0 url [00:00, ? url/s]"
            ]
          },
          "metadata": {
            "tags": []
          }
        },
        {
          "output_type": "display_data",
          "data": {
            "application/vnd.jupyter.widget-view+json": {
              "model_id": "3ff59edbe7204bdfb332542d822a22e2",
              "version_minor": 0,
              "version_major": 2
            },
            "text/plain": [
              "Dl Size...: 0 MiB [00:00, ? MiB/s]"
            ]
          },
          "metadata": {
            "tags": []
          }
        },
        {
          "output_type": "stream",
          "text": [
            "\n",
            "\n"
          ],
          "name": "stdout"
        },
        {
          "output_type": "display_data",
          "data": {
            "application/vnd.jupyter.widget-view+json": {
              "model_id": "98746102edf04cf79ecd90de6684f122",
              "version_minor": 0,
              "version_major": 2
            },
            "text/plain": [
              "0 examples [00:00, ? examples/s]"
            ]
          },
          "metadata": {
            "tags": []
          }
        },
        {
          "output_type": "stream",
          "text": [
            "WARNING:absl:1738 images were corrupted and were skipped\n"
          ],
          "name": "stderr"
        },
        {
          "output_type": "stream",
          "text": [
            "Shuffling and writing examples to /root/tensorflow_datasets/cats_vs_dogs/4.0.0.incompleteHBRPOI/cats_vs_dogs-train.tfrecord\n"
          ],
          "name": "stdout"
        },
        {
          "output_type": "display_data",
          "data": {
            "application/vnd.jupyter.widget-view+json": {
              "model_id": "d616f0887b0f4830b24629a4f8a76744",
              "version_minor": 0,
              "version_major": 2
            },
            "text/plain": [
              "  0%|          | 0/23262 [00:00<?, ? examples/s]"
            ]
          },
          "metadata": {
            "tags": []
          }
        },
        {
          "output_type": "stream",
          "text": [
            "\u001b[1mDataset cats_vs_dogs downloaded and prepared to /root/tensorflow_datasets/cats_vs_dogs/4.0.0. Subsequent calls will reuse this data.\u001b[0m\n",
            "There are 23262 images for 2 classes.\n"
          ],
          "name": "stdout"
        }
      ]
    },
    {
      "cell_type": "markdown",
      "metadata": {
        "id": "5LIucSJ8rKAG"
      },
      "source": [
        "Preprocess the data for training by normalizing pixel values, reshaping them and creating batches of data:"
      ]
    },
    {
      "cell_type": "code",
      "metadata": {
        "id": "cKhoLUfIR81q"
      },
      "source": [
        "# Some global variables\n",
        "pixels = 224\n",
        "IMAGE_SIZE = (pixels, pixels)\n",
        "BATCH_SIZE = 32\n",
        "\n",
        "# Apply resizing and pixel normalization\n",
        "def format_image(image, label):\n",
        "    image = tf.image.resize(image, IMAGE_SIZE) / 255.0\n",
        "    return  image, label\n",
        "\n",
        "# Create batches of data\n",
        "train_batches = train_examples.shuffle(num_examples // 4).map(format_image).batch(BATCH_SIZE).prefetch(1)\n",
        "validation_batches = validation_examples.map(format_image).batch(BATCH_SIZE).prefetch(1)\n",
        "test_batches = test_examples.map(format_image).batch(1)"
      ],
      "execution_count": 3,
      "outputs": []
    },
    {
      "cell_type": "markdown",
      "metadata": {
        "id": "lb5TgrJbZjJR"
      },
      "source": [
        "## Code the custom `Distiller` model\n",
        "\n",
        "In order to implement the distillation process you will create a custom Keras model which you will name `Distiller`. In order to do this you need to override some of the vanilla methods of a `keras.Model` to include the custom logic for the knowledge distillation. You need to override these methods:\n",
        "- `compile`: This model needs some extra parameters to be compiled such as the teacher and student losses, the alpha and the temperature.\n",
        "- `train_step`: Controls how the model is trained. This will be where the actual knowledge distillation logic will be found. This method is what is called when you do `model.fit`.\n",
        "- `test_step`: Controls the evaluation of the model. This method is what is called when you do `model.evaluate`.\n",
        "\n",
        "To learn more about customizing models check out the [official docs](https://keras.io/guides/customizing_what_happens_in_fit/)."
      ]
    },
    {
      "cell_type": "code",
      "metadata": {
        "id": "EdZ7JiqEwabw"
      },
      "source": [
        "class Distiller(keras.Model):\n",
        "\n",
        "  # Needs both the student and teacher models to create an instance of this class\n",
        "  def __init__(self, student, teacher):\n",
        "      super(Distiller, self).__init__()\n",
        "      self.teacher = teacher\n",
        "      self.student = student\n",
        "\n",
        "\n",
        "  # Will be used when calling model.compile()\n",
        "  def compile(self, optimizer, metrics, student_loss_fn,\n",
        "              distillation_loss_fn, alpha, temperature):\n",
        "\n",
        "      # Compile using the optimizer and metrics\n",
        "      super(Distiller, self).compile(optimizer=optimizer, metrics=metrics)\n",
        "      \n",
        "      # Add the other params to the instance\n",
        "      self.student_loss_fn = student_loss_fn\n",
        "      self.distillation_loss_fn = distillation_loss_fn\n",
        "      self.alpha = alpha\n",
        "      self.temperature = temperature\n",
        "\n",
        "\n",
        "  # Will be used when calling model.fit()\n",
        "  def train_step(self, data):\n",
        "      # Data is expected to be a tuple of (features, labels)\n",
        "      x, y = data\n",
        "\n",
        "      # Vanilla forward pass of the teacher\n",
        "      # Note that the teacher is NOT trained\n",
        "      teacher_predictions = self.teacher(x, training=False)\n",
        "\n",
        "      # Use GradientTape to save gradients\n",
        "      with tf.GradientTape() as tape:\n",
        "          # Vanilla forward pass of the student\n",
        "          student_predictions = self.student(x, training=True)\n",
        "\n",
        "          # Compute vanilla student loss\n",
        "          student_loss = self.student_loss_fn(y, student_predictions)\n",
        "          \n",
        "          # Compute distillation loss\n",
        "          # Should be KL divergence between logits softened by a temperature factor\n",
        "          distillation_loss = self.distillation_loss_fn(\n",
        "              tf.nn.softmax(teacher_predictions / self.temperature, axis=1),\n",
        "              tf.nn.softmax(student_predictions / self.temperature, axis=1))\n",
        "\n",
        "          # Compute loss by weighting the two previous losses using the alpha param\n",
        "          loss = self.alpha * student_loss + (1 - self.alpha) * distillation_loss\n",
        "\n",
        "      # Use tape to calculate gradients for student\n",
        "      trainable_vars = self.student.trainable_variables\n",
        "      gradients = tape.gradient(loss, trainable_vars)\n",
        "\n",
        "      # Update student weights \n",
        "      # Note that this done ONLY for the student\n",
        "      self.optimizer.apply_gradients(zip(gradients, trainable_vars))\n",
        "\n",
        "      # Update the metrics\n",
        "      self.compiled_metrics.update_state(y, student_predictions)\n",
        "\n",
        "      # Return a performance dictionary\n",
        "      # You will see this being outputted during training\n",
        "      results = {m.name: m.result() for m in self.metrics}\n",
        "      results.update({\"student_loss\": student_loss, \"distillation_loss\": distillation_loss})\n",
        "      return results\n",
        "\n",
        "\n",
        "  # Will be used when calling model.evaluate()\n",
        "  def test_step(self, data):\n",
        "      # Data is expected to be a tuple of (features, labels)\n",
        "      x, y = data\n",
        "\n",
        "      # Use student to make predictions\n",
        "      # Notice that the training param is set to False\n",
        "      y_prediction = self.student(x, training=False)\n",
        "\n",
        "      # Calculate student's vanilla loss\n",
        "      student_loss = self.student_loss_fn(y, y_prediction)\n",
        "\n",
        "      # Update the metrics\n",
        "      self.compiled_metrics.update_state(y, y_prediction)\n",
        "\n",
        "      # Return a performance dictionary\n",
        "      # You will see this being outputted during inference\n",
        "      results = {m.name: m.result() for m in self.metrics}\n",
        "      results.update({\"student_loss\": student_loss})\n",
        "      return results\n"
      ],
      "execution_count": 4,
      "outputs": []
    },
    {
      "cell_type": "markdown",
      "metadata": {
        "id": "f1QXmNmisKNG"
      },
      "source": [
        "## Teacher and student models\n",
        "\n",
        "For the models you will use a standard CNN architecture that implements regularization via some dropout layers (in the case of the teacher), but it could be any Keras model. \n",
        "\n",
        "Define the `create_model` functions to create models with the desired architecture using Keras' [Sequential Model](https://keras.io/guides/sequential_model/).\n",
        "\n",
        "Notice that `create_small_model` returns a simplified version of the model (in terms of number of layers and absence of regularization) that `create_big_model` returns:"
      ]
    },
    {
      "cell_type": "code",
      "metadata": {
        "id": "35GyhKrgwt0o"
      },
      "source": [
        "# Teacher model\n",
        "def create_big_model():\n",
        "  tf.random.set_seed(42)\n",
        "  model = keras.models.Sequential([\n",
        "    keras.layers.Conv2D(32, (3, 3), activation='relu', input_shape=(224, 224, 3)),\n",
        "    keras.layers.MaxPooling2D((2, 2)),\n",
        "    keras.layers.Conv2D(64, (3, 3), activation='relu'),\n",
        "    keras.layers.MaxPooling2D((2, 2)),\n",
        "    keras.layers.Dropout(0.2),\n",
        "    keras.layers.Conv2D(64, (3, 3), activation='relu'),\n",
        "    keras.layers.MaxPooling2D((2, 2)),\n",
        "    keras.layers.Conv2D(128, (3, 3), activation='relu'),\n",
        "    keras.layers.MaxPooling2D((2, 2)),\n",
        "    keras.layers.Dropout(0.5),\n",
        "    keras.layers.Flatten(),\n",
        "    keras.layers.Dense(512, activation='relu'),\n",
        "    keras.layers.Dense(2)\n",
        "  ])\n",
        "\n",
        "  return model\n",
        "\n",
        "\n",
        "\n",
        "# Student model\n",
        "def create_small_model():\n",
        "  tf.random.set_seed(42)\n",
        "  model = keras.models.Sequential([\n",
        "    keras.layers.Conv2D(32, (3, 3), activation='relu', input_shape=(224, 224, 3)),\n",
        "    keras.layers.MaxPooling2D((2, 2)),\n",
        "    keras.layers.Flatten(),\n",
        "    keras.layers.Dense(2)\n",
        "  ])\n",
        "\n",
        "  return model"
      ],
      "execution_count": 5,
      "outputs": []
    },
    {
      "cell_type": "markdown",
      "metadata": {
        "id": "8FsetAiyvHlr"
      },
      "source": [
        "There are two important things to notice:\n",
        "- The last layer does not have an softmax activation because the raw logits are needed for the knowledge distillation.\n",
        "- Regularization via dropout layers will be applied to the teacher but NOT to the student. This is because the student should be able to learn this regularization through the distillation process.\n",
        "\n",
        "Remember that the student model can be thought of as a simplified (or compressed) version of the teacher model.\n",
        "\n"
      ]
    },
    {
      "cell_type": "code",
      "metadata": {
        "id": "HazdkHp9j7Ur",
        "colab": {
          "base_uri": "https://localhost:8080/",
          "height": 43
        },
        "outputId": "9fc0ea16-58c6-4a55-9979-4f1a1aa7a9a8"
      },
      "source": [
        "# Create the teacher\n",
        "teacher = create_big_model()\n",
        "\n",
        "# Plot architecture\n",
        "keras.utils.plot_model(teacher, rankdir=\"LR\")"
      ],
      "execution_count": 6,
      "outputs": [
        {
          "output_type": "execute_result",
          "data": {
            "image/png": "[encoded data removed]",
            "text/plain": [
              "<IPython.core.display.Image object>"
            ]
          },
          "metadata": {
            "tags": []
          },
          "execution_count": 6
        }
      ]
    },
    {
      "cell_type": "code",
      "metadata": {
        "id": "Bywn32D7kZ9H",
        "colab": {
          "base_uri": "https://localhost:8080/",
          "height": 77
        },
        "outputId": "07cb0c7a-754c-4af0-f3c1-cfc2e06495e1"
      },
      "source": [
        "# Create the student\n",
        "student = create_small_model()\n",
        "\n",
        "# Plot architecture\n",
        "keras.utils.plot_model(student, rankdir=\"LR\")"
      ],
      "execution_count": 7,
      "outputs": [
        {
          "output_type": "execute_result",
          "data": {
            "image/png": "[encoded data removed]",
            "text/plain": [
              "<IPython.core.display.Image object>"
            ]
          },
          "metadata": {
            "tags": []
          },
          "execution_count": 7
        }
      ]
    },
    {
      "cell_type": "markdown",
      "metadata": {
        "id": "3lxJnnI4xs-s"
      },
      "source": [
        "Check the actual difference in number of trainable parameters (weights and biases) between both models:"
      ]
    },
    {
      "cell_type": "code",
      "metadata": {
        "id": "Ed8Sd21vvwSK",
        "colab": {
          "base_uri": "https://localhost:8080/"
        },
        "outputId": "42c49ef6-b7bb-4c73-d334-f2b465687538"
      },
      "source": [
        "# Calculates number of trainable params for a given model\n",
        "def num_trainable_params(model):\n",
        "  return np.sum([np.prod(v.get_shape()) for v in model.trainable_weights])\n",
        "\n",
        "\n",
        "student_params = num_trainable_params(student)\n",
        "teacher_params = num_trainable_params(teacher)\n",
        "\n",
        "print(f\"Teacher model has: {teacher_params} trainable params.\\n\")\n",
        "print(f\"Student model has: {student_params} trainable params.\\n\")\n",
        "print(f\"Teacher model is roughly {teacher_params//student_params} times bigger than the student model.\")"
      ],
      "execution_count": 8,
      "outputs": [
        {
          "output_type": "stream",
          "text": [
            "Teacher model has: 9568898 trainable params.\n",
            "\n",
            "Student model has: 789442 trainable params.\n",
            "\n",
            "Teacher model is roughly 12 times bigger than the student model.\n"
          ],
          "name": "stdout"
        }
      ]
    },
    {
      "cell_type": "markdown",
      "metadata": {
        "id": "O_O66k7dwab1"
      },
      "source": [
        "### Train the teacher\n",
        "\n",
        "In knowledge distillation it is assumed that the teacher has already been trained so the natural first step is to train the teacher. You will do so for a total of 8 epochs:"
      ]
    },
    {
      "cell_type": "code",
      "metadata": {
        "id": "cWtaALBbwab1",
        "colab": {
          "base_uri": "https://localhost:8080/"
        },
        "outputId": "39674228-d268-4c23-e24f-83d0d7f8ba68"
      },
      "source": [
        "# Compile the teacher model\n",
        "teacher.compile(\n",
        "    loss=tf.keras.losses.SparseCategoricalCrossentropy(from_logits=True), # Notice from_logits param is set to True\n",
        "    optimizer=keras.optimizers.Adam(),\n",
        "    metrics=[tf.keras.metrics.SparseCategoricalAccuracy()]\n",
        ")\n",
        "\n",
        "# Fit the model and save the training history (will take from 5 to 10 minutes depending on the GPU you were assigned to)\n",
        "teacher_history = teacher.fit(train_batches, epochs=8, validation_data=validation_batches)"
      ],
      "execution_count": 9,
      "outputs": [
        {
          "output_type": "stream",
          "text": [
            "Epoch 1/8\n",
            "582/582 [==============================] - 95s 101ms/step - loss: 0.6814 - sparse_categorical_accuracy: 0.5611 - val_loss: 0.6056 - val_sparse_categorical_accuracy: 0.6672\n",
            "Epoch 2/8\n",
            "582/582 [==============================] - 62s 99ms/step - loss: 0.5890 - sparse_categorical_accuracy: 0.6794 - val_loss: 0.5598 - val_sparse_categorical_accuracy: 0.7330\n",
            "Epoch 3/8\n",
            "582/582 [==============================] - 63s 99ms/step - loss: 0.5090 - sparse_categorical_accuracy: 0.7447 - val_loss: 0.4577 - val_sparse_categorical_accuracy: 0.7833\n",
            "Epoch 4/8\n",
            "582/582 [==============================] - 62s 99ms/step - loss: 0.4408 - sparse_categorical_accuracy: 0.7934 - val_loss: 0.3966 - val_sparse_categorical_accuracy: 0.8242\n",
            "Epoch 5/8\n",
            "582/582 [==============================] - 62s 99ms/step - loss: 0.3824 - sparse_categorical_accuracy: 0.8313 - val_loss: 0.3927 - val_sparse_categorical_accuracy: 0.8276\n",
            "Epoch 6/8\n",
            "582/582 [==============================] - 62s 99ms/step - loss: 0.3362 - sparse_categorical_accuracy: 0.8553 - val_loss: 0.3595 - val_sparse_categorical_accuracy: 0.8482\n",
            "Epoch 7/8\n",
            "582/582 [==============================] - 62s 99ms/step - loss: 0.2909 - sparse_categorical_accuracy: 0.8755 - val_loss: 0.3348 - val_sparse_categorical_accuracy: 0.8504\n",
            "Epoch 8/8\n",
            "582/582 [==============================] - 62s 99ms/step - loss: 0.2461 - sparse_categorical_accuracy: 0.8953 - val_loss: 0.3346 - val_sparse_categorical_accuracy: 0.8534\n"
          ],
          "name": "stdout"
        }
      ]
    },
    {
      "cell_type": "markdown",
      "metadata": {
        "id": "9kSMig49wab2"
      },
      "source": [
        "## Train a student from scratch for reference\n",
        "\n",
        "In order to assess the effectiveness of the distillation process, train a model that is equivalent to the student but without doing knowledge distillation. Notice that the training is done for only 5 epochs:"
      ]
    },
    {
      "cell_type": "code",
      "metadata": {
        "id": "BPb3wE2nwab3",
        "colab": {
          "base_uri": "https://localhost:8080/"
        },
        "outputId": "601b6516-823d-4918-b7aa-2c0d3656c223"
      },
      "source": [
        "# Create student_scratch model with the same characteristics as the original student\n",
        "student_scratch = create_small_model()\n",
        "\n",
        "# Compile it\n",
        "student_scratch.compile(\n",
        "    loss=tf.keras.losses.SparseCategoricalCrossentropy(from_logits=True),\n",
        "    optimizer=keras.optimizers.Adam(),\n",
        "    metrics=[tf.keras.metrics.SparseCategoricalAccuracy()]\n",
        ")\n",
        "\n",
        "# Train and evaluate student trained from scratch (will take around 3 mins with GPU enabled)\n",
        "student_scratch_history = student_scratch.fit(train_batches, epochs=5, validation_data=validation_batches)"
      ],
      "execution_count": 10,
      "outputs": [
        {
          "output_type": "stream",
          "text": [
            "Epoch 1/5\n",
            "582/582 [==============================] - 42s 64ms/step - loss: 0.7745 - sparse_categorical_accuracy: 0.6560 - val_loss: 0.5982 - val_sparse_categorical_accuracy: 0.6874\n",
            "Epoch 2/5\n",
            "582/582 [==============================] - 42s 64ms/step - loss: 0.4917 - sparse_categorical_accuracy: 0.7648 - val_loss: 0.6249 - val_sparse_categorical_accuracy: 0.6973\n",
            "Epoch 3/5\n",
            "582/582 [==============================] - 42s 64ms/step - loss: 0.3823 - sparse_categorical_accuracy: 0.8312 - val_loss: 0.6400 - val_sparse_categorical_accuracy: 0.7120\n",
            "Epoch 4/5\n",
            "582/582 [==============================] - 42s 64ms/step - loss: 0.2792 - sparse_categorical_accuracy: 0.8859 - val_loss: 0.7135 - val_sparse_categorical_accuracy: 0.7214\n",
            "Epoch 5/5\n",
            "582/582 [==============================] - 42s 64ms/step - loss: 0.1911 - sparse_categorical_accuracy: 0.9300 - val_loss: 0.8241 - val_sparse_categorical_accuracy: 0.7236\n"
          ],
          "name": "stdout"
        }
      ]
    },
    {
      "cell_type": "markdown",
      "metadata": {
        "id": "2BdD9K57wab2"
      },
      "source": [
        "## Knowledge Distillation\n",
        "\n",
        "To perform the knowledge distillation process you will use the custom model you previously coded. To do so, begin by creating an instance of the `Distiller` class and passing in the student and teacher models. Then compile it with the appropiate parameters and train it!\n",
        "\n",
        "The two student models are trained for only 5 epochs unlike the teacher that was trained for 8. This is done to showcase that the knowledge distillation allows for quicker training times as the student learns from an already trained model."
      ]
    },
    {
      "cell_type": "code",
      "metadata": {
        "id": "D7EqhGlAwab2",
        "colab": {
          "base_uri": "https://localhost:8080/"
        },
        "outputId": "ac0488da-0486-44a8-b21b-69a507fa201a"
      },
      "source": [
        "# Create Distiller instance\n",
        "distiller = Distiller(student=student, teacher=teacher)\n",
        "\n",
        "# Compile Distiller model\n",
        "distiller.compile(\n",
        "    student_loss_fn=keras.losses.SparseCategoricalCrossentropy(from_logits=True),\n",
        "    optimizer=keras.optimizers.Adam(),\n",
        "    metrics=[keras.metrics.SparseCategoricalAccuracy()],\n",
        "    distillation_loss_fn=keras.losses.KLDivergence(),\n",
        "    alpha=0.05,\n",
        "    temperature=5,\n",
        ")\n",
        "\n",
        "# Distill knowledge from teacher to student (will take around 3 mins with GPU enabled)\n",
        "distiller_history = distiller.fit(train_batches, epochs=5, validation_data=validation_batches)"
      ],
      "execution_count": 11,
      "outputs": [
        {
          "output_type": "stream",
          "text": [
            "Epoch 1/5\n",
            "582/582 [==============================] - 49s 74ms/step - sparse_categorical_accuracy: 0.6318 - student_loss: 0.8432 - distillation_loss: 0.1021 - val_sparse_categorical_accuracy: 0.6978 - val_student_loss: 0.5810\n",
            "Epoch 2/5\n",
            "582/582 [==============================] - 48s 74ms/step - sparse_categorical_accuracy: 0.7349 - student_loss: 0.5492 - distillation_loss: 0.0553 - val_sparse_categorical_accuracy: 0.7261 - val_student_loss: 0.7055\n",
            "Epoch 3/5\n",
            "582/582 [==============================] - 48s 74ms/step - sparse_categorical_accuracy: 0.7972 - student_loss: 0.4390 - distillation_loss: 0.0417 - val_sparse_categorical_accuracy: 0.7468 - val_student_loss: 0.5799\n",
            "Epoch 4/5\n",
            "582/582 [==============================] - 48s 74ms/step - sparse_categorical_accuracy: 0.8394 - student_loss: 0.3582 - distillation_loss: 0.0331 - val_sparse_categorical_accuracy: 0.7343 - val_student_loss: 0.7067\n",
            "Epoch 5/5\n",
            "582/582 [==============================] - 48s 74ms/step - sparse_categorical_accuracy: 0.8715 - student_loss: 0.2964 - distillation_loss: 0.0283 - val_sparse_categorical_accuracy: 0.7339 - val_student_loss: 0.6987\n"
          ],
          "name": "stdout"
        }
      ]
    },
    {
      "cell_type": "markdown",
      "metadata": {
        "id": "voTxT0cIxCYx"
      },
      "source": [
        "## Comparing the models\n",
        "\n",
        "To compare the models you can check the `sparse_categorical_accuracy` of each one on the test set:"
      ]
    },
    {
      "cell_type": "code",
      "metadata": {
        "id": "7O4xXZlhxp92",
        "colab": {
          "base_uri": "https://localhost:8080/"
        },
        "outputId": "7a78e85f-c0f3-4d02-b776-167c829c1bcf"
      },
      "source": [
        "# Compute accuracies\n",
        "student_scratch_acc = student_scratch.evaluate(test_batches, return_dict=True).get(\"sparse_categorical_accuracy\")\n",
        "distiller_acc = distiller.evaluate(test_batches, return_dict=True).get(\"sparse_categorical_accuracy\")\n",
        "teacher_acc = teacher.evaluate(test_batches, return_dict=True).get(\"sparse_categorical_accuracy\")\n",
        "\n",
        "# Print results\n",
        "print(f\"\\n\\nTeacher achieved a sparse_categorical_accuracy of {teacher_acc*100:.2f}%.\\n\")\n",
        "print(f\"Student with knowledge distillation achieved a sparse_categorical_accuracy of {distiller_acc*100:.2f}%.\\n\")\n",
        "print(f\"Student without knowledge distillation achieved a sparse_categorical_accuracy of {student_scratch_acc*100:.2f}%.\\n\")"
      ],
      "execution_count": 12,
      "outputs": [
        {
          "output_type": "stream",
          "text": [
            "2326/2326 [==============================] - 11s 5ms/step - loss: 0.7480 - sparse_categorical_accuracy: 0.7085\n",
            "2326/2326 [==============================] - 11s 5ms/step - sparse_categorical_accuracy: 0.7416 - student_loss: 0.5967\n",
            "2326/2326 [==============================] - 14s 6ms/step - loss: 0.3184 - sparse_categorical_accuracy: 0.8620\n",
            "\n",
            "\n",
            "Teacher achieved a sparse_categorical_accuracy of 86.20%.\n",
            "\n",
            "Student with knowledge distillation achieved a sparse_categorical_accuracy of 74.16%.\n",
            "\n",
            "Student without knowledge distillation achieved a sparse_categorical_accuracy of 70.85%.\n",
            "\n"
          ],
          "name": "stdout"
        }
      ]
    },
    {
      "cell_type": "markdown",
      "metadata": {
        "id": "JTDRmrXWwab3"
      },
      "source": [
        "The teacher model yields a higger accuracy than the two student models. This is expected since it was trained for more epochs while using a bigger architecture.\n",
        "\n",
        "Notice that the student without distillation was outperfomed by the student with knowledge distillation. \n",
        "\n",
        "Since you saved the training history of each model you can create a plot for a better comparison of the two student models."
      ]
    },
    {
      "cell_type": "code",
      "metadata": {
        "id": "p-m8dvwS92rF",
        "colab": {
          "base_uri": "https://localhost:8080/",
          "height": 295
        },
        "outputId": "5e903a55-6382-4d1c-fad0-35dde406cd73"
      },
      "source": [
        "# Get relevant metrics from a history\n",
        "def get_metrics(history):\n",
        "  history = history.history\n",
        "  acc = history['sparse_categorical_accuracy']\n",
        "  val_acc = history['val_sparse_categorical_accuracy']\n",
        "  return acc, val_acc\n",
        "\n",
        "\n",
        "# Plot training and evaluation metrics given a dict of histories\n",
        "def plot_train_eval(history_dict):\n",
        "  \n",
        "  metric_dict = {}\n",
        "\n",
        "  for k, v in history_dict.items():\n",
        "    acc, val_acc= get_metrics(v)\n",
        "    metric_dict[f'{k} training acc'] = acc\n",
        "    metric_dict[f'{k} eval acc'] = val_acc\n",
        "\n",
        "  acc_plot = pd.DataFrame(metric_dict)\n",
        "  \n",
        "  acc_plot = sns.lineplot(data=acc_plot, markers=True)\n",
        "  acc_plot.set_title('training vs evaluation accuracy')\n",
        "  acc_plot.set_xlabel('epoch')\n",
        "  acc_plot.set_ylabel('sparse_categorical_accuracy')\n",
        "  plt.show()\n",
        "\n",
        "\n",
        "# Plot for comparing the two student models\n",
        "plot_train_eval({\n",
        "    \"distilled\": distiller_history,\n",
        "    \"student_scratch\": student_scratch_history,\n",
        "})"
      ],
      "execution_count": 13,
      "outputs": [
        {
          "output_type": "display_data",
          "data": {
            "image/png": "[encoded data removed]",
            "text/plain": [
              "<Figure size 432x288 with 1 Axes>"
            ]
          },
          "metadata": {
            "tags": [],
            "needs_background": "light"
          }
        }
      ]
    },
    {
      "cell_type": "markdown",
      "metadata": {
        "id": "tm1VrbjK16n6"
      },
      "source": [
        "This plot is very interesting because it shows that the distilled version outperformed the unmodified one in almost all of the epochs when using the evaluation set. Alongside this, the student without distillation yields a bigger training accuracy, which is a sign that it is overfitting more than the distilled model. **This hints that the distilled model was able to learn from the regularization that the teacher implemented!** Pretty cool, right?"
      ]
    },
    {
      "cell_type": "markdown",
      "metadata": {
        "id": "SGDr0PoC1nuP"
      },
      "source": [
        "-----------------------------\n",
        "**Congratulations on finishing this ungraded lab!** Now you should have a clearer understanding of what Knowledge Distillation is and how it can be implemented using Tensorflow and Keras. \n",
        "\n",
        "This process is widely used for model compression and has proven to perform really well. In fact you might have heard about [`DistilBert`](https://huggingface.co/transformers/model_doc/distilbert.html), which is a smaller, faster, cheaper and lighter of BERT.\n",
        "\n",
        "\n",
        "**Keep it up!**"
      ]
    }
  ]
}